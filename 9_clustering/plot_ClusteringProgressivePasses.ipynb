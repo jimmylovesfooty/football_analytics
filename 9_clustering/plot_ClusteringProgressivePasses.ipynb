{
  "cells": [
    {
      "cell_type": "code",
      "execution_count": null,
      "metadata": {
        "collapsed": false
      },
      "outputs": [],
      "source": [
        "%matplotlib inline"
      ]
    },
    {
      "cell_type": "markdown",
      "metadata": {},
      "source": [
        "\n# Clustering progressive passes\nIn this tutorial we show how to cluster progressive passes using KMeans clustering. \n"
      ]
    },
    {
      "cell_type": "code",
      "execution_count": null,
      "metadata": {
        "collapsed": false
      },
      "outputs": [],
      "source": [
        "#importing necessary libraries\nimport pandas as pd\nimport numpy as np\nimport warnings \nimport matplotlib.pyplot as plt\nfrom mplsoccer import Pitch\nimport os\nimport pathlib\nimport json\npd.options.mode.chained_assignment = None\nwarnings.filterwarnings('ignore')"
      ]
    },
    {
      "cell_type": "markdown",
      "metadata": {},
      "source": [
        "## Opening the dataset\n\nFirst we open the data. It is exactly the same way as we did in the previous tutorials.\n\n"
      ]
    },
    {
      "cell_type": "code",
      "execution_count": null,
      "metadata": {
        "collapsed": false
      },
      "outputs": [],
      "source": [
        "df = pd.DataFrame()\nfor i in range(13):\n    file_name = 'events_England_' + str(i+1) + '.json'\n    path = os.path.join(str(pathlib.Path().resolve().parents[0]), 'data', 'Wyscout', file_name)\n    with open(path) as f:\n        data = json.load(f)\n    df = pd.concat([df, pd.DataFrame(data)])"
      ]
    },
    {
      "cell_type": "markdown",
      "metadata": {},
      "source": [
        "## Preparing the dataset\n\nData preprocessing is also done in a similar manner. First we take the *matchId* of the game we want to analyze. Then,\nwe filter out passes which ended in (0, 68) or (105, 0) as well as ones that ended out of the pitch. Clustering\nprogressive passes can be also done for on player and the entire season!\n\n"
      ]
    },
    {
      "cell_type": "code",
      "execution_count": null,
      "metadata": {
        "collapsed": false
      },
      "outputs": [],
      "source": [
        "#get events from match\nmatch_id = 2500045\n#get passes from this match\nmatch_events = df.loc[df[\"matchId\"] == match_id]\nnext_event = match_events.shift(-1, fill_value=0)\nmatch_events[\"nextEvent\"] = next_event[\"subEventName\"]\nmatch_events[\"kickedOut\"] = match_events.apply(lambda x: 1 if x.nextEvent == \"Ball out of the field\" else 0, axis = 1)\npasses = match_events.loc[match_events[\"eventName\"] == \"Pass\"]\n#change coords to better find progressive\npasses[\"x\"] = passes.positions.apply(lambda cell: (cell[0]['x']) * 105/100)\npasses[\"y\"] = passes.positions.apply(lambda cell: (100 - cell[0]['y']) * 68/100)\npasses[\"end_x\"] = passes.positions.apply(lambda cell: (cell[1]['x']) * 105/100)\npasses[\"end_y\"] = passes.positions.apply(lambda cell: (100 - cell[1]['y']) * 68/100)\ndelete_passes = passes.loc[passes[\"kickedOut\"] == 1]\npasses = passes.drop(delete_passes.index)\npasses = passes.loc[(((passes[\"end_x\"] != 0) & (passes[\"end_y\"] != 68)) & ((passes[\"end_x\"] != 105) & (passes[\"end_y\"] != 0)))]"
      ]
    },
    {
      "cell_type": "markdown",
      "metadata": {},
      "source": [
        "## Finding out progressive passes\n\nTo cluster progressive passes we need to define them. In this tutorial we will follow Wyscouts definition available\n[here](https://dataglossary.wyscout.com/progressive_pass/). Also, we keep only passes made by Manchester United.\n\n"
      ]
    },
    {
      "cell_type": "code",
      "execution_count": null,
      "metadata": {
        "collapsed": false
      },
      "outputs": [],
      "source": [
        "def is_progressive(x, y, end_x, end_y):\n    start_dist = np.sqrt((105 - x)**2 + (34 - y)**2)\n    end_dist = np.sqrt((105 - end_x)**2 + (34 - end_y)**2)\n    #mark that passes to own half are not progressive\n    thres = 100\n    if x < 52.5 and end_x < 52.5:\n        thres = 30\n    elif x < 52.5 and end_x >= 52.5:\n        thres = 15\n    elif x >= 52.5 and end_x >= 52.5:\n        thres = 10\n    if thres > start_dist - end_dist:\n        return False\n    else:\n        return True\n\npasses[\"is_progressive\"] = passes.apply(lambda row : is_progressive(row['x'], row['y'], row['end_x'], row['end_y']), axis = 1)\n\n#keep united progressive passes\nunited_passes = passes.loc[passes[\"teamId\"] != 1625]\nunited_progressive = united_passes.loc[united_passes[\"is_progressive\"] == True]\n\nunited_progressive[\"angle\"] = np.arctan2(united_progressive[\"end_y\"] - united_progressive[\"y\"], united_progressive[\"end_x\"] - united_progressive[\"x\"])"
      ]
    },
    {
      "cell_type": "markdown",
      "metadata": {},
      "source": [
        "## Finding out optimal number of clusters\n\nTo find the optimal number of clusters we use the elbow method - comparision between SSE score and number of clusters.\nOptimal number of clusters should be determined by an elbow. In our case the elbow is for k = 5. You can try crustering using different\nk values as well as different clustering algorithms \n\n"
      ]
    },
    {
      "cell_type": "code",
      "execution_count": null,
      "metadata": {
        "collapsed": false
      },
      "outputs": [],
      "source": [
        "from sklearn.cluster import KMeans\n\nK = np.linspace(1, 20, 20)\nX = united_progressive[[\"x\", \"y\", \"end_x\", \"end_y\", \"angle\"]].values\nelbow = {\"sse\": [], \"k\": [], \"sil\": []}\nfor k in K:\n    cluster = KMeans(n_clusters = int(k), random_state = 2147)\n    labels = cluster.fit_predict(X)\n    elbow[\"sse\"].append(cluster.inertia_)\n    elbow[\"k\"].append(k)\n    \nplt.scatter(elbow[\"k\"], elbow[\"sse\"])  \nplt.plot(elbow[\"k\"], elbow[\"sse\"])\nplt.xticks(np.linspace(1, 20, 20))\nplt.xlabel(\"K\")\nplt.ylabel(\"SSE\")\nplt.show()\nfrom sklearn.metrics import pairwise_distances\ndef compute_inertia(a, X):\n    W = [np.mean(pairwise_distances(X[a == c, :])) for c in np.unique(a)]\n    return np.mean(W)\n\ndef compute_gap(clustering, data, k_max, n_references=5):\n    if len(data.shape) == 1:\n        data = data.reshape(-1, 1)\n    reference = np.random.rand(*data.shape)\n    reference_inertia = []\n    for k in range(1, k_max+1):\n        local_inertia = []\n        for _ in range(n_references):\n            clustering.n_clusters = k\n            assignments = clustering.fit_predict(reference)\n            local_inertia.append(compute_inertia(assignments, reference))\n        reference_inertia.append(np.mean(local_inertia))\n    \n    ondata_inertia = []\n    for k in range(1, k_max+1):\n        clustering.n_clusters = k\n        assignments = clustering.fit_predict(data)\n        ondata_inertia.append(compute_inertia(assignments, data))\n        \n    gap = np.log(reference_inertia)-np.log(ondata_inertia)\n    return gap, np.log(reference_inertia), np.log(ondata_inertia)\n\nk_max = 10\ngap, reference_inertia, ondata_inertia = compute_gap(KMeans(random_state = 2147), X, k_max)\n\nplt.plot(range(1, k_max+1), gap, '-o')\nplt.ylabel('gap')\nplt.xlabel('k')"
      ]
    },
    {
      "cell_type": "markdown",
      "metadata": {},
      "source": [
        "## Clustering\n\nAfter we found the optimal number of clusters we can cluster passes from a game. Then, we plot each cluster on \na separate plot.\n\n"
      ]
    },
    {
      "cell_type": "code",
      "execution_count": null,
      "metadata": {
        "collapsed": false
      },
      "outputs": [],
      "source": [
        "k = 9\ncluster = KMeans(n_clusters = int(k), random_state = 2147)\nlabels = cluster.fit_predict(X)\n\nunited_progressive[\"label\"] = labels\n\n\npitch = Pitch(line_color='black', pitch_type = \"custom\", pitch_length=105, pitch_width=68)\nfig, axs = pitch.grid(ncols = 3, nrows = 3, grid_height=0.85, title_height=0.06, axis=False,\n                     endnote_height=0.04, title_space=0.04, endnote_space=0.01)\n\n#for each player\nfor clust, ax in zip(np.linspace(0, k-1, k), axs['pitch'].flat[:k]):\n    #put player name over the plot\n    ax.text(52.5, 74, \"Cluster \" + str(int(clust+1)),\n            ha='center', va='center', fontsize=18)\n    #take only passes by this player\n    clustered = united_progressive.loc[united_progressive[\"label\"] == clust]\n    #scatter\n    correct = clustered.loc[clustered.apply (lambda x:{'id':1801} in x.tags, axis = 1)]\n    pitch.scatter(correct.x, correct.y, alpha = 0.2, s = 50, color = \"blue\", ax=ax)\n    #plot arrow\n    pitch.arrows(correct.x, correct.y,\n            correct.end_x, correct.end_y, color = \"blue\", ax=ax, width=1)\n    incorrect = clustered.loc[clustered.apply (lambda x:{'id':1802} in x.tags, axis = 1)]\n    pitch.scatter(incorrect.x, incorrect.y, alpha = 0.2, s = 50, color = \"red\", ax=ax)\n    #plot arrow\n    pitch.arrows(incorrect.x, incorrect.y,\n            incorrect.end_x, incorrect.end_y, color = \"red\", ax=ax, width=1)\n\n#Another way to set title using mplsoccer\naxs['title'].text(0.5, 0.5, 'Manchester United progressive passes clusters', ha='center', va='center', fontsize=30)\nplt.show()"
      ]
    }
  ],
  "metadata": {
    "kernelspec": {
      "display_name": "Python 3",
      "language": "python",
      "name": "python3"
    },
    "language_info": {
      "codemirror_mode": {
        "name": "ipython",
        "version": 3
      },
      "file_extension": ".py",
      "mimetype": "text/x-python",
      "name": "python",
      "nbconvert_exporter": "python",
      "pygments_lexer": "ipython3",
      "version": "3.10.8"
    }
  },
  "nbformat": 4,
  "nbformat_minor": 0
}