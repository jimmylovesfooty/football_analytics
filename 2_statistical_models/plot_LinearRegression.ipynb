{
 "cells": [
  {
   "cell_type": "code",
   "execution_count": null,
   "metadata": {
    "collapsed": false,
    "jupyter": {
     "outputs_hidden": false
    }
   },
   "outputs": [],
   "source": [
    "%matplotlib inline"
   ]
  },
  {
   "cell_type": "markdown",
   "metadata": {},
   "source": [
    "\n",
    "# Linear regression\n",
    "\n",
    "We are going to look at the relationship between age and\n",
    "minutes played. Start by watching the video a\n",
    "\n",
    "..  youtube:: TnOqoeVPnXE\n",
    "   :width: 640\n",
    "   :height: 349\n",
    "\n",
    "Either work through the code at the same time as watching or afterwards.\n"
   ]
  },
  {
   "cell_type": "code",
   "execution_count": 1,
   "metadata": {
    "collapsed": false,
    "jupyter": {
     "outputs_hidden": false
    }
   },
   "outputs": [],
   "source": [
    "#importing necessary libraries\n",
    "import pandas as pd\n",
    "import numpy as np\n",
    "import matplotlib.pyplot as plt\n",
    "import statsmodels.formula.api as smf"
   ]
  },
  {
   "cell_type": "code",
   "execution_count": 4,
   "metadata": {},
   "outputs": [
    {
     "data": {
      "text/plain": [
       "'/Users/jamesdavies/soccermatics/2_statistical_models'"
      ]
     },
     "execution_count": 4,
     "metadata": {},
     "output_type": "execute_result"
    }
   ],
   "source": [
    "pwd"
   ]
  },
  {
   "cell_type": "code",
   "execution_count": 5,
   "metadata": {},
   "outputs": [
    {
     "name": "stdout",
     "output_type": "stream",
     "text": [
      "/Users/jamesdavies\n"
     ]
    }
   ],
   "source": [
    "cd ~"
   ]
  },
  {
   "cell_type": "code",
   "execution_count": 6,
   "metadata": {},
   "outputs": [
    {
     "name": "stdout",
     "output_type": "stream",
     "text": [
      "/Users/jamesdavies/soccermatics/data\n"
     ]
    }
   ],
   "source": [
    "cd soccermatics/data"
   ]
  },
  {
   "cell_type": "markdown",
   "metadata": {},
   "source": [
    "## Opening data\n",
    "In this example we use data downloaded from [FBref](https://fbref.com/en/comps/12/2021-2022/stats/2021-2022-La-Liga-Stats) on players in La Liga.\n",
    "We just use the age and minutes played columns.\n",
    "And we only take the first 20 observations, to help visualise the process.\n",
    "Download [playerstats.csv](https://github.com/soccermatics/Soccermatics/blob/main/course/lessons/lesson2/playerstats.csv)\n",
    "your working directory.\n",
    "\n"
   ]
  },
  {
   "cell_type": "code",
   "execution_count": 7,
   "metadata": {
    "collapsed": false,
    "jupyter": {
     "outputs_hidden": false
    }
   },
   "outputs": [],
   "source": [
    "num_obs=20\n",
    "laliga_df=pd.read_csv(\"playerstats.csv\",delimiter=',')\n",
    "minutes_model = pd.DataFrame()\n",
    "minutes_model = minutes_model.assign(minutes=laliga_df['Min'][0:num_obs])\n",
    "minutes_model = minutes_model.assign(age=laliga_df['Age'][0:num_obs])\n",
    "\n",
    "# Make an age squared column so we can fir polynomial model.\n",
    "minutes_model = minutes_model.assign(age_squared=np.power(laliga_df['Age'][0:num_obs],2))"
   ]
  },
  {
   "cell_type": "markdown",
   "metadata": {},
   "source": [
    "## Plotting the data\n",
    "Start by plotting the data.\n",
    "\n"
   ]
  },
  {
   "cell_type": "code",
   "execution_count": 8,
   "metadata": {
    "collapsed": false,
    "jupyter": {
     "outputs_hidden": false
    }
   },
   "outputs": [
    {
     "data": {
      "image/png": "[encoded data removed]",
      "text/plain": [
       "<Figure size 640x480 with 1 Axes>"
      ]
     },
     "metadata": {},
     "output_type": "display_data"
    }
   ],
   "source": [
    "fig,ax=plt.subplots(num=1)\n",
    "ax.plot(minutes_model['age'], minutes_model['minutes'], linestyle='none', marker= '.', markersize= 10, color='blue')\n",
    "ax.set_ylabel('Minutes played')\n",
    "ax.set_xlabel('Age')\n",
    "ax.spines['top'].set_visible(False)\n",
    "ax.spines['right'].set_visible(False)\n",
    "plt.xlim((15,40))\n",
    "plt.ylim((0,3000))\n",
    "plt.show()"
   ]
  },
  {
   "cell_type": "markdown",
   "metadata": {},
   "source": [
    "## Fitting the model\n",
    "We are going to begin by doing a  straight line linear regression\n",
    " .. math::\n",
    "\n",
    "    y = b_0 + b_1 x\n",
    "\n",
    "A straight line relationship between minutes played and age.\n",
    "\n"
   ]
  },
  {
   "cell_type": "code",
   "execution_count": 8,
   "metadata": {
    "collapsed": false,
    "jupyter": {
     "outputs_hidden": false
    }
   },
   "outputs": [
    {
     "name": "stdout",
     "output_type": "stream",
     "text": [
      "                            OLS Regression Results                            \n",
      "==============================================================================\n",
      "Dep. Variable:                minutes   R-squared:                       0.231\n",
      "Model:                            OLS   Adj. R-squared:                  0.189\n",
      "Method:                 Least Squares   F-statistic:                     5.415\n",
      "Date:                Sun, 15 Sep 2024   Prob (F-statistic):             0.0318\n",
      "Time:                        22:40:00   Log-Likelihood:                -163.24\n",
      "No. Observations:                  20   AIC:                             330.5\n",
      "Df Residuals:                      18   BIC:                             332.5\n",
      "Df Model:                           1                                         \n",
      "Covariance Type:            nonrobust                                         \n",
      "==============================================================================\n",
      "                 coef    std err          t      P>|t|      [0.025      0.975]\n",
      "------------------------------------------------------------------------------\n",
      "Intercept  -1293.0147   1152.158     -1.122      0.277   -3713.609    1127.580\n",
      "age          102.5404     44.065      2.327      0.032       9.963     195.118\n",
      "==============================================================================\n",
      "Omnibus:                        0.142   Durbin-Watson:                   2.001\n",
      "Prob(Omnibus):                  0.931   Jarque-Bera (JB):                0.316\n",
      "Skew:                          -0.153   Prob(JB):                        0.854\n",
      "Kurtosis:                       2.466   Cond. No.                         151.\n",
      "==============================================================================\n",
      "\n",
      "Notes:\n",
      "[1] Standard Errors assume that the covariance matrix of the errors is correctly specified.\n"
     ]
    }
   ],
   "source": [
    "model_fit=smf.ols(formula='minutes  ~ age   ', data=minutes_model).fit()\n",
    "print(model_fit.summary())        \n",
    "b=model_fit.params"
   ]
  },
  {
   "cell_type": "markdown",
   "metadata": {},
   "source": [
    "Comparing the fit \n",
    " ----------------------------\n",
    "We now use the fit to plot a line through the data.\n",
    " .. math::\n",
    "\n",
    "    y = b_0 + b_1 x\n",
    "\n",
    "where the parameters are estimated from the model fit.\n",
    "\n"
   ]
  },
  {
   "cell_type": "code",
   "execution_count": 9,
   "metadata": {
    "collapsed": false,
    "jupyter": {
     "outputs_hidden": false
    }
   },
   "outputs": [
    {
     "data": {
      "image/png": "[encoded data removed]",
      "text/plain": [
       "<Figure size 640x480 with 1 Axes>"
      ]
     },
     "metadata": {},
     "output_type": "display_data"
    }
   ],
   "source": [
    "#First plot the data as previously\n",
    "fig,ax=plt.subplots(num=1)\n",
    "ax.plot(minutes_model['age'], minutes_model['minutes'], linestyle='none', marker= '.', markersize= 10, color='blue')\n",
    "ax.set_ylabel('Minutes played')\n",
    "ax.set_xlabel('Age')\n",
    "ax.spines['top'].set_visible(False)\n",
    "ax.spines['right'].set_visible(False)\n",
    "plt.xlim((15,40))\n",
    "plt.ylim((0,3000))\n",
    "\n",
    "#Now create the line through the data\n",
    "x=np.arange(40,step=1)\n",
    "y= np.mean(minutes_model['minutes'])*np.ones(40)\n",
    "ax.plot(x, y, color='black')\n",
    "\n",
    "#Show distances to line for each point\n",
    "for i,a in enumerate(minutes_model['age']):\n",
    "    ax.plot([a,a],[minutes_model['minutes'][i], np.mean(minutes_model['minutes']) ], color='red')\n",
    "plt.show()"
   ]
  },
  {
   "cell_type": "markdown",
   "metadata": {},
   "source": [
    "A model including squared terms\n",
    " ----------------------------\n",
    "We now fit the quadratic model\n",
    " .. math::\n",
    "\n",
    "    y = b_0 + b_1 x + b_2 x^2\n",
    "\n",
    "estimating the parameters from the data.\n",
    "\n"
   ]
  },
  {
   "cell_type": "code",
   "execution_count": 10,
   "metadata": {
    "collapsed": false,
    "jupyter": {
     "outputs_hidden": false
    }
   },
   "outputs": [
    {
     "name": "stdout",
     "output_type": "stream",
     "text": [
      "                            OLS Regression Results                            \n",
      "==============================================================================\n",
      "Dep. Variable:                minutes   R-squared:                       0.295\n",
      "Model:                            OLS   Adj. R-squared:                  0.212\n",
      "Method:                 Least Squares   F-statistic:                     3.559\n",
      "Date:                Sun, 15 Sep 2024   Prob (F-statistic):             0.0512\n",
      "Time:                        22:40:13   Log-Likelihood:                -162.38\n",
      "No. Observations:                  20   AIC:                             330.8\n",
      "Df Residuals:                      17   BIC:                             333.7\n",
      "Df Model:                           2                                         \n",
      "Covariance Type:            nonrobust                                         \n",
      "===============================================================================\n",
      "                  coef    std err          t      P>|t|      [0.025      0.975]\n",
      "-------------------------------------------------------------------------------\n",
      "Intercept   -8063.5823   5573.188     -1.447      0.166   -1.98e+04    3694.817\n",
      "age           634.7722    431.113      1.472      0.159    -274.796    1544.340\n",
      "age_squared   -10.1432      8.174     -1.241      0.232     -27.389       7.103\n",
      "==============================================================================\n",
      "Omnibus:                        1.800   Durbin-Watson:                   2.164\n",
      "Prob(Omnibus):                  0.407   Jarque-Bera (JB):                1.054\n",
      "Skew:                          -0.190   Prob(JB):                        0.590\n",
      "Kurtosis:                       1.942   Cond. No.                     2.06e+04\n",
      "==============================================================================\n",
      "\n",
      "Notes:\n",
      "[1] Standard Errors assume that the covariance matrix of the errors is correctly specified.\n",
      "[2] The condition number is large, 2.06e+04. This might indicate that there are\n",
      "strong multicollinearity or other numerical problems.\n"
     ]
    },
    {
     "name": "stderr",
     "output_type": "stream",
     "text": [
      "/var/folders/ch/rtlgfpts12v22kcr_b8ncvqr0000gn/T/ipykernel_29424/3394618910.py:16: FutureWarning: Series.__getitem__ treating keys as positions is deprecated. In a future version, integer keys will always be treated as labels (consistent with DataFrame behavior). To access a value by position, use `ser.iloc[pos]`\n",
      "  y= b[0] + b[1]*x + b[2]*x*x\n",
      "/var/folders/ch/rtlgfpts12v22kcr_b8ncvqr0000gn/T/ipykernel_29424/3394618910.py:20: FutureWarning: Series.__getitem__ treating keys as positions is deprecated. In a future version, integer keys will always be treated as labels (consistent with DataFrame behavior). To access a value by position, use `ser.iloc[pos]`\n",
      "  ax.plot([a,a],[minutes_model['minutes'][i], b[0] + b[1]*a + b[2]*a*a], color='red')\n"
     ]
    },
    {
     "data": {
      "image/png": "[encoded data removed]",
      "text/plain": [
       "<Figure size 640x480 with 1 Axes>"
      ]
     },
     "metadata": {},
     "output_type": "display_data"
    }
   ],
   "source": [
    "# First fit the model\n",
    "model_fit=smf.ols(formula='minutes  ~ age + age_squared  ', data=minutes_model).fit()\n",
    "print(model_fit.summary())        \n",
    "b=model_fit.params\n",
    "\n",
    "# Compare the fit \n",
    "fig,ax=plt.subplots(num=1)\n",
    "ax.plot(minutes_model['age'], minutes_model['minutes'], linestyle='none', marker= '.', markersize= 10, color='blue')\n",
    "ax.set_ylabel('Minutes played')\n",
    "ax.set_xlabel('Age')\n",
    "ax.spines['top'].set_visible(False)\n",
    "ax.spines['right'].set_visible(False)\n",
    "plt.xlim((15,40))\n",
    "plt.ylim((0,3000))\n",
    "x=np.arange(40,step=1)\n",
    "y= b[0] + b[1]*x + b[2]*x*x\n",
    "ax.plot(x, y, color='black')\n",
    "\n",
    "for i,a in enumerate(minutes_model['age']):\n",
    "    ax.plot([a,a],[minutes_model['minutes'][i], b[0] + b[1]*a + b[2]*a*a], color='red')\n",
    "plt.show()"
   ]
  },
  {
   "cell_type": "markdown",
   "metadata": {},
   "source": [
    "## Now try with all data points\n",
    "1) Refit the model with all data points\n",
    "\n",
    "2) Try adding a cubic term\n",
    "\n",
    "3) Think about how well the model works. What are the limitations?\n",
    "\n"
   ]
  }
 ],
 "metadata": {
  "kernelspec": {
   "display_name": "Python 3 (ipykernel)",
   "language": "python",
   "name": "python3"
  },
  "language_info": {
   "codemirror_mode": {
    "name": "ipython",
    "version": 3
   },
   "file_extension": ".py",
   "mimetype": "text/x-python",
   "name": "python",
   "nbconvert_exporter": "python",
   "pygments_lexer": "ipython3",
   "version": "3.11.5"
  }
 },
 "nbformat": 4,
 "nbformat_minor": 4
}
