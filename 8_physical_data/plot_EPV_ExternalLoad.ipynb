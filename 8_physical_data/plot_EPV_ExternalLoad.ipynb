{
 "cells": [
  {
   "cell_type": "code",
   "execution_count": null,
   "metadata": {
    "collapsed": false,
    "jupyter": {
     "outputs_hidden": false
    }
   },
   "outputs": [],
   "source": [
    "%matplotlib inline"
   ]
  },
  {
   "cell_type": "markdown",
   "metadata": {},
   "source": [
    "\n",
    "# Modelling the relationship between EPV added and distance covered\n",
    "In this tutorial we will model the relationship between EPV added and distance covered. The code bases on Sudarshan \"Suds\" Gopaladesikan's \n",
    "[code](https://github.com/slbenfica1079/sportsdatascience)\n",
    "provided for [Friends of Tracking](https://www.youtube.com/channel/UCUBFJYcag8j2rm_9HkrrA7w). \n"
   ]
  },
  {
   "cell_type": "code",
   "execution_count": 1,
   "metadata": {
    "collapsed": false,
    "jupyter": {
     "outputs_hidden": false
    }
   },
   "outputs": [],
   "source": [
    "import Metrica_IO as mio\n",
    "import Metrica_Viz as mviz\n",
    "import Metrica_Velocities as mvel\n",
    "import matplotlib.pyplot as plt\n",
    "import numpy as np\n",
    "import pandas as pd\n",
    "import Metrica_PitchControl as mpc\n",
    "import Metrica_EPV as mepv\n",
    "from sklearn.linear_model import LinearRegression\n",
    "import warnings\n",
    "warnings.filterwarnings(\"ignore\")\n",
    "pd.options.mode.chained_assignment = None"
   ]
  },
  {
   "cell_type": "code",
   "execution_count": 2,
   "metadata": {},
   "outputs": [
    {
     "data": {
      "text/plain": [
       "'/Users/jamesdavies/soccermatics/8_physical_data'"
      ]
     },
     "execution_count": 2,
     "metadata": {},
     "output_type": "execute_result"
    }
   ],
   "source": [
    "pwd"
   ]
  },
  {
   "cell_type": "markdown",
   "metadata": {},
   "source": [
    "## Opening data\n",
    "For this task we will use Metrica data. We open it using Laurie Shaw's codes. We make separate dataframes for home and away teams as well as for events.\n",
    "Then we adjust the direction so the teams attack the same direction for both halves.\n",
    "\n"
   ]
  },
  {
   "cell_type": "code",
   "execution_count": 3,
   "metadata": {
    "collapsed": false,
    "jupyter": {
     "outputs_hidden": false
    }
   },
   "outputs": [
    {
     "name": "stdout",
     "output_type": "stream",
     "text": [
      "      Team       Type       Subtype  Period  Start Frame  Start Time [s]  \\\n",
      "0     Away  SET PIECE      KICK OFF       1           51            2.04   \n",
      "1     Away       PASS           NaN       1           51            2.04   \n",
      "2     Away       PASS           NaN       1          146            5.84   \n",
      "3     Away       PASS           NaN       1          248            9.92   \n",
      "4     Away       PASS           NaN       1          316           12.64   \n",
      "...    ...        ...           ...     ...          ...             ...   \n",
      "1930  Away  BALL LOST  INTERCEPTION       2       140122         5604.88   \n",
      "1931  Home  CHALLENGE   AERIAL-LOST       2       140180         5607.20   \n",
      "1932  Away  CHALLENGE   AERIAL-LOST       2       140183         5607.32   \n",
      "1933  Home   RECOVERY           NaN       2       140211         5608.44   \n",
      "1934  Home   BALL OUT     CLEARANCE       2       140265         5610.60   \n",
      "\n",
      "      End Frame  End Time [s]      From        To  Start X  Start Y  End X  \\\n",
      "0            51          2.04  Player23       NaN      NaN      NaN    NaN   \n",
      "1            87          3.48  Player23  Player20     0.50     0.50   0.40   \n",
      "2           186          7.44  Player20  Player18     0.43     0.50   0.44   \n",
      "3           283         11.32  Player18  Player17     0.47     0.19   0.31   \n",
      "4           346         13.84  Player17  Player16     0.29     0.32   0.26   \n",
      "...         ...           ...       ...       ...      ...      ...    ...   \n",
      "1930     140183       5607.32  Player21       NaN     0.54     0.77   0.29   \n",
      "1931     140180       5607.20   Player1       NaN     0.31     0.30    NaN   \n",
      "1932     140183       5607.32  Player24       NaN     0.32     0.30    NaN   \n",
      "1933     140211       5608.44  Player12       NaN     0.34     0.32    NaN   \n",
      "1934     140298       5611.92  Player12       NaN     0.33     0.16   0.41   \n",
      "\n",
      "      End Y  \n",
      "0       NaN  \n",
      "1      0.51  \n",
      "2      0.22  \n",
      "3      0.28  \n",
      "4      0.58  \n",
      "...     ...  \n",
      "1930   0.24  \n",
      "1931    NaN  \n",
      "1932    NaN  \n",
      "1933    NaN  \n",
      "1934  -0.04  \n",
      "\n",
      "[1935 rows x 14 columns]\n",
      "Reading team: home\n",
      "Reading team: away\n"
     ]
    },
    {
     "ename": "ValueError",
     "evalue": "No axis named 2 for object type Series",
     "output_type": "error",
     "traceback": [
      "\u001b[0;31m---------------------------------------------------------------------------\u001b[0m",
      "\u001b[0;31mKeyError\u001b[0m                                  Traceback (most recent call last)",
      "\u001b[0;32m/opt/homebrew/anaconda3/envs/data-ltv-prediction/lib/python3.11/site-packages/pandas/core/generic.py\u001b[0m in \u001b[0;36m?\u001b[0;34m(cls, axis)\u001b[0m\n\u001b[1;32m    576\u001b[0m             \u001b[0;32mreturn\u001b[0m \u001b[0mcls\u001b[0m\u001b[0;34m.\u001b[0m\u001b[0m_AXIS_TO_AXIS_NUMBER\u001b[0m\u001b[0;34m[\u001b[0m\u001b[0maxis\u001b[0m\u001b[0;34m]\u001b[0m\u001b[0;34m\u001b[0m\u001b[0;34m\u001b[0m\u001b[0m\n\u001b[1;32m    577\u001b[0m         \u001b[0;32mexcept\u001b[0m \u001b[0mKeyError\u001b[0m\u001b[0;34m:\u001b[0m\u001b[0;34m\u001b[0m\u001b[0;34m\u001b[0m\u001b[0m\n\u001b[0;32m--> 578\u001b[0;31m             \u001b[0;32mraise\u001b[0m \u001b[0mValueError\u001b[0m\u001b[0;34m(\u001b[0m\u001b[0;34mf\"No axis named {axis} for object type {cls.__name__}\"\u001b[0m\u001b[0;34m)\u001b[0m\u001b[0;34m\u001b[0m\u001b[0;34m\u001b[0m\u001b[0m\n\u001b[0m",
      "\u001b[0;31mKeyError\u001b[0m: 2",
      "\nDuring handling of the above exception, another exception occurred:\n",
      "\u001b[0;31mValueError\u001b[0m                                Traceback (most recent call last)",
      "\u001b[0;32m/var/folders/ch/rtlgfpts12v22kcr_b8ncvqr0000gn/T/ipykernel_23439/868005792.py\u001b[0m in \u001b[0;36m?\u001b[0;34m()\u001b[0m\n\u001b[1;32m     13\u001b[0m \u001b[0mtracking_away\u001b[0m \u001b[0;34m=\u001b[0m \u001b[0mmio\u001b[0m\u001b[0;34m.\u001b[0m\u001b[0mto_metric_coordinates\u001b[0m\u001b[0;34m(\u001b[0m\u001b[0mtracking_away\u001b[0m\u001b[0;34m)\u001b[0m\u001b[0;34m\u001b[0m\u001b[0;34m\u001b[0m\u001b[0m\n\u001b[1;32m     14\u001b[0m \u001b[0mevents\u001b[0m \u001b[0;34m=\u001b[0m \u001b[0mmio\u001b[0m\u001b[0;34m.\u001b[0m\u001b[0mto_metric_coordinates\u001b[0m\u001b[0;34m(\u001b[0m\u001b[0mevents\u001b[0m\u001b[0;34m)\u001b[0m\u001b[0;34m\u001b[0m\u001b[0;34m\u001b[0m\u001b[0m\n\u001b[1;32m     15\u001b[0m \u001b[0;34m\u001b[0m\u001b[0m\n\u001b[1;32m     16\u001b[0m \u001b[0;31m# reverse direction of play in the second half so that home team is always attacking from right->left\u001b[0m\u001b[0;34m\u001b[0m\u001b[0;34m\u001b[0m\u001b[0m\n\u001b[0;32m---> 17\u001b[0;31m \u001b[0mtracking_home\u001b[0m\u001b[0;34m,\u001b[0m \u001b[0mtracking_away\u001b[0m\u001b[0;34m,\u001b[0m \u001b[0mevents\u001b[0m \u001b[0;34m=\u001b[0m \u001b[0mmio\u001b[0m\u001b[0;34m.\u001b[0m\u001b[0mto_single_playing_direction\u001b[0m\u001b[0;34m(\u001b[0m\u001b[0mtracking_home\u001b[0m\u001b[0;34m,\u001b[0m \u001b[0mtracking_away\u001b[0m\u001b[0;34m,\u001b[0m \u001b[0mevents\u001b[0m\u001b[0;34m)\u001b[0m\u001b[0;34m\u001b[0m\u001b[0;34m\u001b[0m\u001b[0m\n\u001b[0m\u001b[1;32m     18\u001b[0m \u001b[0;34m\u001b[0m\u001b[0m\n\u001b[1;32m     19\u001b[0m \u001b[0mGK_numbers\u001b[0m \u001b[0;34m=\u001b[0m \u001b[0;34m[\u001b[0m\u001b[0mmio\u001b[0m\u001b[0;34m.\u001b[0m\u001b[0mfind_goalkeeper\u001b[0m\u001b[0;34m(\u001b[0m\u001b[0mtracking_home\u001b[0m\u001b[0;34m)\u001b[0m\u001b[0;34m,\u001b[0m\u001b[0mmio\u001b[0m\u001b[0;34m.\u001b[0m\u001b[0mfind_goalkeeper\u001b[0m\u001b[0;34m(\u001b[0m\u001b[0mtracking_away\u001b[0m\u001b[0;34m)\u001b[0m\u001b[0;34m]\u001b[0m\u001b[0;34m\u001b[0m\u001b[0;34m\u001b[0m\u001b[0m\n\u001b[1;32m     20\u001b[0m \u001b[0mhome_attack_direction\u001b[0m \u001b[0;34m=\u001b[0m \u001b[0mmio\u001b[0m\u001b[0;34m.\u001b[0m\u001b[0mfind_playing_direction\u001b[0m\u001b[0;34m(\u001b[0m\u001b[0mtracking_home\u001b[0m\u001b[0;34m,\u001b[0m\u001b[0;34m'Home'\u001b[0m\u001b[0;34m)\u001b[0m \u001b[0;31m# 1 if shooting left-right, else -1\u001b[0m\u001b[0;34m\u001b[0m\u001b[0;34m\u001b[0m\u001b[0m\n",
      "\u001b[0;32m~/soccermatics/8_physical_data/Metrica_IO.py\u001b[0m in \u001b[0;36m?\u001b[0;34m(home, away, events)\u001b[0m\n\u001b[1;32m    127\u001b[0m     '''\n\u001b[1;32m    128\u001b[0m     \u001b[0mFlip\u001b[0m \u001b[0mcoordinates\u001b[0m \u001b[0;32min\u001b[0m \u001b[0msecond\u001b[0m \u001b[0mhalf\u001b[0m \u001b[0mso\u001b[0m \u001b[0mthat\u001b[0m \u001b[0meach\u001b[0m \u001b[0mteam\u001b[0m \u001b[0malways\u001b[0m \u001b[0mshoots\u001b[0m \u001b[0;32min\u001b[0m \u001b[0mthe\u001b[0m \u001b[0msame\u001b[0m \u001b[0mdirection\u001b[0m \u001b[0mthrough\u001b[0m \u001b[0mthe\u001b[0m \u001b[0mmatch\u001b[0m\u001b[0;34m.\u001b[0m\u001b[0;34m\u001b[0m\u001b[0;34m\u001b[0m\u001b[0m\n\u001b[1;32m    129\u001b[0m     '''\n\u001b[1;32m    130\u001b[0m     \u001b[0;32mfor\u001b[0m \u001b[0mteam\u001b[0m \u001b[0;32min\u001b[0m \u001b[0;34m[\u001b[0m\u001b[0mhome\u001b[0m\u001b[0;34m,\u001b[0m\u001b[0maway\u001b[0m\u001b[0;34m,\u001b[0m\u001b[0mevents\u001b[0m\u001b[0;34m]\u001b[0m\u001b[0;34m:\u001b[0m\u001b[0;34m\u001b[0m\u001b[0;34m\u001b[0m\u001b[0m\n\u001b[0;32m--> 131\u001b[0;31m         \u001b[0msecond_half_idx\u001b[0m \u001b[0;34m=\u001b[0m \u001b[0mteam\u001b[0m\u001b[0;34m.\u001b[0m\u001b[0mPeriod\u001b[0m\u001b[0;34m.\u001b[0m\u001b[0midxmax\u001b[0m\u001b[0;34m(\u001b[0m\u001b[0;36m2\u001b[0m\u001b[0;34m)\u001b[0m\u001b[0;34m\u001b[0m\u001b[0;34m\u001b[0m\u001b[0m\n\u001b[0m\u001b[1;32m    132\u001b[0m         \u001b[0mcolumns\u001b[0m \u001b[0;34m=\u001b[0m \u001b[0;34m[\u001b[0m\u001b[0mc\u001b[0m \u001b[0;32mfor\u001b[0m \u001b[0mc\u001b[0m \u001b[0;32min\u001b[0m \u001b[0mteam\u001b[0m\u001b[0;34m.\u001b[0m\u001b[0mcolumns\u001b[0m \u001b[0;32mif\u001b[0m \u001b[0mc\u001b[0m\u001b[0;34m[\u001b[0m\u001b[0;34m-\u001b[0m\u001b[0;36m1\u001b[0m\u001b[0;34m]\u001b[0m\u001b[0;34m.\u001b[0m\u001b[0mlower\u001b[0m\u001b[0;34m(\u001b[0m\u001b[0;34m)\u001b[0m \u001b[0;32min\u001b[0m \u001b[0;34m[\u001b[0m\u001b[0;34m'x'\u001b[0m\u001b[0;34m,\u001b[0m\u001b[0;34m'y'\u001b[0m\u001b[0;34m]\u001b[0m\u001b[0;34m]\u001b[0m\u001b[0;34m\u001b[0m\u001b[0;34m\u001b[0m\u001b[0m\n\u001b[1;32m    133\u001b[0m         \u001b[0mteam\u001b[0m\u001b[0;34m.\u001b[0m\u001b[0mloc\u001b[0m\u001b[0;34m[\u001b[0m\u001b[0msecond_half_idx\u001b[0m\u001b[0;34m:\u001b[0m\u001b[0;34m,\u001b[0m\u001b[0mcolumns\u001b[0m\u001b[0;34m]\u001b[0m \u001b[0;34m*=\u001b[0m \u001b[0;34m-\u001b[0m\u001b[0;36m1\u001b[0m\u001b[0;34m\u001b[0m\u001b[0;34m\u001b[0m\u001b[0m\n\u001b[1;32m    134\u001b[0m     \u001b[0;32mreturn\u001b[0m \u001b[0mhome\u001b[0m\u001b[0;34m,\u001b[0m\u001b[0maway\u001b[0m\u001b[0;34m,\u001b[0m\u001b[0mevents\u001b[0m\u001b[0;34m\u001b[0m\u001b[0;34m\u001b[0m\u001b[0m\n",
      "\u001b[0;32m/opt/homebrew/anaconda3/envs/data-ltv-prediction/lib/python3.11/site-packages/pandas/core/series.py\u001b[0m in \u001b[0;36m?\u001b[0;34m(self, axis, skipna, *args, **kwargs)\u001b[0m\n\u001b[1;32m   2751\u001b[0m \u001b[0;34m\u001b[0m\u001b[0m\n\u001b[1;32m   2752\u001b[0m         \u001b[0;34m>>\u001b[0m\u001b[0;34m>\u001b[0m \u001b[0ms\u001b[0m\u001b[0;34m.\u001b[0m\u001b[0midxmax\u001b[0m\u001b[0;34m(\u001b[0m\u001b[0mskipna\u001b[0m\u001b[0;34m=\u001b[0m\u001b[0;32mFalse\u001b[0m\u001b[0;34m)\u001b[0m\u001b[0;34m\u001b[0m\u001b[0;34m\u001b[0m\u001b[0m\n\u001b[1;32m   2753\u001b[0m         \u001b[0mnan\u001b[0m\u001b[0;34m\u001b[0m\u001b[0;34m\u001b[0m\u001b[0m\n\u001b[1;32m   2754\u001b[0m         \"\"\"\n\u001b[0;32m-> 2755\u001b[0;31m         \u001b[0maxis\u001b[0m \u001b[0;34m=\u001b[0m \u001b[0mself\u001b[0m\u001b[0;34m.\u001b[0m\u001b[0m_get_axis_number\u001b[0m\u001b[0;34m(\u001b[0m\u001b[0maxis\u001b[0m\u001b[0;34m)\u001b[0m\u001b[0;34m\u001b[0m\u001b[0;34m\u001b[0m\u001b[0m\n\u001b[0m\u001b[1;32m   2756\u001b[0m         \u001b[0;32mwith\u001b[0m \u001b[0mwarnings\u001b[0m\u001b[0;34m.\u001b[0m\u001b[0mcatch_warnings\u001b[0m\u001b[0;34m(\u001b[0m\u001b[0;34m)\u001b[0m\u001b[0;34m:\u001b[0m\u001b[0;34m\u001b[0m\u001b[0;34m\u001b[0m\u001b[0m\n\u001b[1;32m   2757\u001b[0m             \u001b[0;31m# TODO(3.0): this catching/filtering can be removed\u001b[0m\u001b[0;34m\u001b[0m\u001b[0;34m\u001b[0m\u001b[0m\n\u001b[1;32m   2758\u001b[0m             \u001b[0;31m# ignore warning produced by argmax since we will issue a different\u001b[0m\u001b[0;34m\u001b[0m\u001b[0;34m\u001b[0m\u001b[0m\n",
      "\u001b[0;32m/opt/homebrew/anaconda3/envs/data-ltv-prediction/lib/python3.11/site-packages/pandas/core/generic.py\u001b[0m in \u001b[0;36m?\u001b[0;34m(cls, axis)\u001b[0m\n\u001b[1;32m    574\u001b[0m     \u001b[0;32mdef\u001b[0m \u001b[0m_get_axis_number\u001b[0m\u001b[0;34m(\u001b[0m\u001b[0mcls\u001b[0m\u001b[0;34m,\u001b[0m \u001b[0maxis\u001b[0m\u001b[0;34m:\u001b[0m \u001b[0mAxis\u001b[0m\u001b[0;34m)\u001b[0m \u001b[0;34m->\u001b[0m \u001b[0mAxisInt\u001b[0m\u001b[0;34m:\u001b[0m\u001b[0;34m\u001b[0m\u001b[0;34m\u001b[0m\u001b[0m\n\u001b[1;32m    575\u001b[0m         \u001b[0;32mtry\u001b[0m\u001b[0;34m:\u001b[0m\u001b[0;34m\u001b[0m\u001b[0;34m\u001b[0m\u001b[0m\n\u001b[1;32m    576\u001b[0m             \u001b[0;32mreturn\u001b[0m \u001b[0mcls\u001b[0m\u001b[0;34m.\u001b[0m\u001b[0m_AXIS_TO_AXIS_NUMBER\u001b[0m\u001b[0;34m[\u001b[0m\u001b[0maxis\u001b[0m\u001b[0;34m]\u001b[0m\u001b[0;34m\u001b[0m\u001b[0;34m\u001b[0m\u001b[0m\n\u001b[1;32m    577\u001b[0m         \u001b[0;32mexcept\u001b[0m \u001b[0mKeyError\u001b[0m\u001b[0;34m:\u001b[0m\u001b[0;34m\u001b[0m\u001b[0;34m\u001b[0m\u001b[0m\n\u001b[0;32m--> 578\u001b[0;31m             \u001b[0;32mraise\u001b[0m \u001b[0mValueError\u001b[0m\u001b[0;34m(\u001b[0m\u001b[0;34mf\"No axis named {axis} for object type {cls.__name__}\"\u001b[0m\u001b[0;34m)\u001b[0m\u001b[0;34m\u001b[0m\u001b[0;34m\u001b[0m\u001b[0m\n\u001b[0m",
      "\u001b[0;31mValueError\u001b[0m: No axis named 2 for object type Series"
     ]
    }
   ],
   "source": [
    "DATADIR = '../data/Metrica'\n",
    "game_id = 2  # let's look at sample match 2\n",
    "\n",
    "# read in the event data\n",
    "events = mio.read_simple_event_data(game_id)\n",
    "print(events)\n",
    "# read in tracking data\n",
    "tracking_home = mio.easy_tracking_data(game_id, 'Home')\n",
    "tracking_away = mio.easy_tracking_data(game_id, 'Away')\n",
    "\n",
    "# Convert positions from metrica units to meters (note change in Metrica's coordinate system since the last lesson)\n",
    "tracking_home = mio.to_metric_coordinates(tracking_home)\n",
    "tracking_away = mio.to_metric_coordinates(tracking_away)\n",
    "events = mio.to_metric_coordinates(events)\n",
    "\n",
    "# reverse direction of play in the second half so that home team is always attacking from right->left\n",
    "tracking_home, tracking_away, events = mio.to_single_playing_direction(tracking_home, tracking_away, events)\n",
    "\n",
    "GK_numbers = [mio.find_goalkeeper(tracking_home),mio.find_goalkeeper(tracking_away)]\n",
    "home_attack_direction = mio.find_playing_direction(tracking_home,'Home') # 1 if shooting left-right, else -1\n",
    "\n",
    "#Set some global variables\n",
    "player_ids = np.unique(list(c[:-2] for c in tracking_home.columns if c[:4] in ['Home', 'Away']))\n",
    "maxspeed = 12\n",
    "dt = tracking_home['Time [s]'].diff()\n",
    "second_half_idx = tracking_home.Period.idxmax()\n",
    "\n",
    "# Using Laurie's smoothing code\n",
    "tracking_home = mvel.calc_player_velocities(tracking_home, smoothing=True)\n",
    "tracking_away = mvel.calc_player_velocities(tracking_away, smoothing=True)\n",
    "\n",
    "#Obtain the Unique Players\n",
    "home_players = np.unique(list(c.split('_')[1] for c in tracking_home.columns if c[:4] == 'Home'))\n",
    "away_players = np.unique(list(c.split('_')[1] for c in tracking_away.columns if c[:4] == 'Away'))"
   ]
  },
  {
   "cell_type": "markdown",
   "metadata": {},
   "source": [
    "## Calculate values for each home team's possession chain\n",
    "First, we have to load the EPV grid trained by Laurie Show (it is in fact possession-based xT trained on a grid 100x100). \n",
    "Then, we take all possession chains by the home team. For each of the sequence we calculate distance coverd by the home team  and EPV\n",
    "added during that sequence.\n",
    "\n"
   ]
  },
  {
   "cell_type": "code",
   "execution_count": null,
   "metadata": {
    "collapsed": false,
    "jupyter": {
     "outputs_hidden": false
    }
   },
   "outputs": [],
   "source": [
    "params = mpc.default_model_params()\n",
    "\n",
    "#load epv\n",
    "EPV = mepv.load_EPV_grid(DATADIR+'/EPV_grid.csv')\n",
    "\n",
    "#get all possession chains\n",
    "pass_events = events[events['Type'] == 'PASS']\n",
    "pass_events['Poss_Seq'] = pass_events['Team'].ne(\n",
    "    pass_events['Team'].shift()).cumsum()\n",
    "\n",
    "home_poss = pass_events[pass_events['Team']=='Home']\n",
    "\n",
    "home_poss_list = []\n",
    "for i in np.unique(home_poss['Poss_Seq']):\n",
    "    #start of the sequence\n",
    "    start_time = min(home_poss[home_poss['Poss_Seq']==i]['Start Time [s]'])\n",
    "    #end of the sequence\n",
    "    end_time = max(home_poss[home_poss['Poss_Seq']==i]['End Time [s]'])\n",
    "    #differentiate between halves\n",
    "    half_temp = np.unique(home_poss[home_poss['Poss_Seq']==i]['Period'])\n",
    "    pass_poss = home_poss[home_poss['Poss_Seq']==i]\n",
    "\n",
    "    #calculate distance\n",
    "    poss_distance = []\n",
    "    tracking_poss = tracking_home[(tracking_home['Time [s]']>=start_time) & (tracking_home['Time [s]']<=end_time) & (tracking_home['Period'].isin(half_temp))]\n",
    "    for player in home_players:\n",
    "        column = 'Home_' + player + '_speed'\n",
    "        player_distance = tracking_poss.loc[tracking_poss[column] >= 3,column].sum() / 25. / 1000\n",
    "        poss_distance.append(player_distance)\n",
    "\n",
    "    #calculate epv added\n",
    "    eepv_added = []\n",
    "    for i in pass_poss.index:\n",
    "        EEPV_added, EPV_diff = mepv.calculate_epv_added(i, events, tracking_home, tracking_away, GK_numbers,\n",
    "                                                        EPV, params)\n",
    "        eepv_added.append(EEPV_added)\n",
    "    #sum it\n",
    "    total_dist = np.sum(poss_distance)\n",
    "    total_eepv = np.sum(eepv_added)\n",
    "    home_poss_list.append([total_dist, total_eepv])\n",
    "#save in a dataframe\n",
    "home_eepv_df = pd.DataFrame(np.array(home_poss_list).reshape(68,2), columns = ['HomeDist','EEPV'])"
   ]
  },
  {
   "cell_type": "markdown",
   "metadata": {},
   "source": [
    "## Fitting linear regression\n",
    "Now we can fir linear regression to our data. We do it using *sklearn* module. R2 score amounts to 78.69% which is a high score signifing that\n",
    "distance covered during possession chain by team's players influence EPV added.\n",
    "\n"
   ]
  },
  {
   "cell_type": "code",
   "execution_count": null,
   "metadata": {
    "collapsed": false,
    "jupyter": {
     "outputs_hidden": false
    }
   },
   "outputs": [],
   "source": [
    "lr = LinearRegression()\n",
    "lm = lr.fit(np.array(home_eepv_df['HomeDist']).reshape(-1,1),np.array(home_eepv_df['EEPV']).reshape(-1,1))\n",
    "lm_score = lm.score(np.array(home_eepv_df['HomeDist']).reshape(-1,1),np.array(home_eepv_df['EEPV']).reshape(-1,1))\n",
    "yhat = lm.predict(np.array(home_eepv_df['HomeDist']).reshape(-1,1))\n",
    "\n",
    "plt.scatter(home_eepv_df['HomeDist'],home_eepv_df['EEPV'], edgecolor = 'k', alpha = 0.7, zorder = 2)\n",
    "plt.plot(home_eepv_df['HomeDist'],yhat, color=\"red\", zorder = 3)\n",
    "plt.xlabel(\"Total Distance [>= 3m/s]\")\n",
    "plt.ylabel(\"EPV added\")\n",
    "plt.annotate('R2 = ' + str(lm_score)[:6], xy=(1.15,0))\n",
    "plt.grid(zorder = 1)\n",
    "plt.show()"
   ]
  }
 ],
 "metadata": {
  "kernelspec": {
   "display_name": "Python 3 (ipykernel)",
   "language": "python",
   "name": "python3"
  },
  "language_info": {
   "codemirror_mode": {
    "name": "ipython",
    "version": 3
   },
   "file_extension": ".py",
   "mimetype": "text/x-python",
   "name": "python",
   "nbconvert_exporter": "python",
   "pygments_lexer": "ipython3",
   "version": "3.11.5"
  }
 },
 "nbformat": 4,
 "nbformat_minor": 4
}
