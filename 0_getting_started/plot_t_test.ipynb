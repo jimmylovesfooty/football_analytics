{
 "cells": [
  {
   "cell_type": "code",
   "execution_count": null,
   "metadata": {
    "collapsed": false,
    "jupyter": {
     "outputs_hidden": false
    }
   },
   "outputs": [],
   "source": [
    "%matplotlib inline"
   ]
  },
  {
   "cell_type": "markdown",
   "metadata": {},
   "source": [
    "\n",
    "# Using t-tests\n",
    "In this tutorial we demonstrate how to check if values are significantly different \n",
    "from each other using t-tests\n"
   ]
  },
  {
   "cell_type": "code",
   "execution_count": 1,
   "metadata": {
    "collapsed": false,
    "jupyter": {
     "outputs_hidden": false
    }
   },
   "outputs": [],
   "source": [
    "import pandas as pd\n",
    "import numpy as np\n",
    "import json\n",
    "# plotting\n",
    "import matplotlib.pyplot as plt\n",
    "#opening data\n",
    "import os\n",
    "import pathlib\n",
    "import warnings  \n",
    "pd.options.mode.chained_assignment = None\n",
    "warnings.filterwarnings('ignore')"
   ]
  },
  {
   "cell_type": "code",
   "execution_count": 5,
   "metadata": {},
   "outputs": [
    {
     "name": "stdout",
     "output_type": "stream",
     "text": [
      "/Users/jamesdavies\n"
     ]
    }
   ],
   "source": [
    "cd ~"
   ]
  },
  {
   "cell_type": "code",
   "execution_count": 6,
   "metadata": {},
   "outputs": [
    {
     "name": "stdout",
     "output_type": "stream",
     "text": [
      "/Users/jamesdavies/soccermatics\n"
     ]
    }
   ],
   "source": [
    "cd /Users/jamesdavies/soccermatics"
   ]
  },
  {
   "cell_type": "markdown",
   "metadata": {},
   "source": [
    "## Opening the dataset\n",
    "\n",
    "First we open the data. For this example we will use WyScout data from 2017/18 Premier League season.  To meet file size requirements of \n",
    "Github, we have to open it from different files,\n",
    "but you can open the file locally from the directory you saved it in. Also, we open the file containing all teams in WyScout database.\n",
    "\n"
   ]
  },
  {
   "cell_type": "code",
   "execution_count": 8,
   "metadata": {
    "collapsed": false,
    "jupyter": {
     "outputs_hidden": false
    }
   },
   "outputs": [],
   "source": [
    "#open events\n",
    "train = pd.DataFrame()\n",
    "for i in range(13):\n",
    "    file_name = 'events_England' +'.json'\n",
    "    path = os.path.join(str(pathlib.Path().resolve()), 'data', 'Wyscout', file_name)\n",
    "    with open(path) as f:\n",
    "        data = json.load(f)\n",
    "    train = pd.concat([train, pd.DataFrame(data)])\n",
    "    \n",
    "#open team data\n",
    "path = os.path.join(str(pathlib.Path().resolve()),\"data\", 'Wyscout', 'teams.json')\n",
    "with open(path) as f:\n",
    "    teams = json.load(f)\n",
    "\n",
    "teams_df = pd.DataFrame(teams)\n",
    "teams_df = teams_df.rename(columns={\"wyId\": \"teamId\"})"
   ]
  },
  {
   "cell_type": "markdown",
   "metadata": {},
   "source": [
    "## Preparing the dataset\n",
    "\n",
    "First, we take out corners. Then, we sum them by team. We also merge it together with team dataframe to keep their names.\n",
    "Then we repeat the same, but calculate corners taken by each team per game. \n",
    "\n"
   ]
  },
  {
   "cell_type": "code",
   "execution_count": 9,
   "metadata": {
    "collapsed": false,
    "jupyter": {
     "outputs_hidden": false
    }
   },
   "outputs": [],
   "source": [
    "#get corners\n",
    "corners = train.loc[train[\"subEventName\"] == \"Corner\"]\n",
    "#count corners by team\n",
    "corners_by_team = corners.groupby(['teamId']).size().reset_index(name='counts')\n",
    "#merge with team name\n",
    "summary = corners_by_team.merge(teams_df[[\"name\", \"teamId\"]], how = \"left\", on = [\"teamId\"])\n",
    "#count corners by team by game\n",
    "corners_by_game = corners.groupby(['teamId', \"matchId\"]).size().reset_index(name='counts')\n",
    "#merge with team name\n",
    "summary2 = corners_by_game.merge(teams_df[[\"name\", \"teamId\"]], how = \"left\", on = [\"teamId\"])"
   ]
  },
  {
   "cell_type": "markdown",
   "metadata": {},
   "source": [
    "## One-sample one-sided t-test\n",
    "\n",
    "Imagine that it is established that teams tyoically get 6 corners in a match in\n",
    "football. City are an attacking team and we might think that they get more corners than\n",
    "this. Let's start by plotting a distribution of City's corners.\n",
    "\n",
    "\n"
   ]
  },
  {
   "cell_type": "code",
   "execution_count": 10,
   "metadata": {
    "collapsed": false,
    "jupyter": {
     "outputs_hidden": false
    }
   },
   "outputs": [
    {
     "name": "stdout",
     "output_type": "stream",
     "text": [
      "City typically had 97.50  plus/minus 42.61 corners per match in the 2017/18 season.\n"
     ]
    },
    {
     "data": {
      "image/png": "[encoded data removed]",
      "text/plain": [
       "<Figure size 640x480 with 1 Axes>"
      ]
     },
     "metadata": {},
     "output_type": "display_data"
    }
   ],
   "source": [
    "team_name= 'Manchester City'\n",
    "\n",
    "city_corners = summary2.loc[summary2[\"name\"] == 'Manchester City'][\"counts\"]\n",
    "\n",
    "def FormatFigure(ax):\n",
    "    ax.legend(loc='upper left')\n",
    "    ax.set_ylim(0,0.25) \n",
    "    ax.spines['top'].set_visible(False)\n",
    "    ax.spines['right'].set_visible(False)\n",
    "    ax.set_ylabel('')\n",
    "    ax.set_xlabel('Corners')\n",
    "    ax.set_ylabel('Proportion of games')\n",
    "    ax.set_xticks(np.arange(0,21,step=1)) \n",
    "\n",
    " \n",
    "fig,ax1=plt.subplots(1,1)\n",
    "ax1.hist(city_corners, np.arange(0.01,20.5,1), color='lightblue', edgecolor = 'white',linestyle='-',alpha=0.5, label=team_name, density=True,align='right')\n",
    "FormatFigure(ax1)\n",
    "\n",
    "\n",
    "mean = city_corners.mean()\n",
    "std = city_corners.std()\n",
    "\n",
    "print('City typically had %.2f  plus/minus %.2f corners per match in the 2017/18 season.'%(mean,std))"
   ]
  },
  {
   "cell_type": "markdown",
   "metadata": {},
   "source": [
    "We use can use a one-sided t-test to check if Manchester City took\n",
    "more corners than we might expect due to normal variation in the number\n",
    "of corners we tend to see.  We set the significance level at 0.05.\n",
    "\n"
   ]
  },
  {
   "cell_type": "code",
   "execution_count": 11,
   "metadata": {
    "collapsed": false,
    "jupyter": {
     "outputs_hidden": false
    }
   },
   "outputs": [
    {
     "name": "stdout",
     "output_type": "stream",
     "text": [
      "The t-staistic is 13.24 and the P-value is 0.00.\n",
      "We reject null hypothesis - Manchester City typically take more than 6 corners per match.\n"
     ]
    }
   ],
   "source": [
    "from scipy.stats import ttest_1samp\n",
    "t, pvalue = ttest_1samp(city_corners,popmean=6)\n",
    "\n",
    "print(\"The t-staistic is %.2f and the P-value is %.2f.\"%(t,pvalue))\n",
    "if pvalue < 0.05:\n",
    "    print(\"We reject null hypothesis - \" + team_name + \" typically take more than 6 corners per match.\")\n",
    "else:\n",
    "    print(\"We cannot reject null hypothesis - \" + team_name + \" do not typically take more than 6 corners per match.\")"
   ]
  },
  {
   "cell_type": "markdown",
   "metadata": {},
   "source": [
    "At this significance level, there's a reason to reject the null hypothesis. \n",
    "It is reasonable to say that City take more corners than what is considered normal for a typical team (i.e. 6).\n",
    "\n"
   ]
  },
  {
   "cell_type": "markdown",
   "metadata": {},
   "source": [
    "## Two-sample two-sided t-test\n",
    "\n",
    "Here we compare Liverpool and Everton in terms of corners per match. \n",
    "\n",
    "\n"
   ]
  },
  {
   "cell_type": "code",
   "execution_count": 13,
   "metadata": {
    "collapsed": false,
    "jupyter": {
     "outputs_hidden": false
    }
   },
   "outputs": [
    {
     "name": "stdout",
     "output_type": "stream",
     "text": [
      "Liverpool typically had 79.03 plus/minus 39.80 corners per match in the 2017/18 season.\n",
      "The standard error in the number of corners per match is 6.4561\n",
      "Everton typically had 54.17 plus/minus 34.53 corners per match in the 2017/18 season.\n",
      "The standard error in the number of corners per match is 5.7558\n"
     ]
    }
   ],
   "source": [
    "liverpool_corners = summary2.loc[summary2[\"name\"] == 'Liverpool'][\"counts\"]\n",
    "everton_corners = summary2.loc[summary2[\"name\"] == 'Everton'][\"counts\"]\n",
    "\n",
    "mean = liverpool_corners.mean()\n",
    "std = liverpool_corners.std()\n",
    "print('Liverpool typically had %.2f plus/minus %.2f corners per match in the 2017/18 season.'%(mean,std))\n",
    "std_error=std/np.sqrt(len(liverpool_corners))\n",
    "print('The standard error in the number of corners per match is %.4f'%std_error)\n",
    "\n",
    "mean = everton_corners.mean()\n",
    "std = everton_corners.std()\n",
    "print('Everton typically had %.2f plus/minus %.2f corners per match in the 2017/18 season.'%(mean,std))\n",
    "std_error=std/np.sqrt(len(everton_corners))\n",
    "print('The standard error in the number of corners per match is %.4f'%std_error)"
   ]
  },
  {
   "cell_type": "markdown",
   "metadata": {},
   "source": [
    "Now let's plot the corners as a histogram.\n",
    "\n"
   ]
  },
  {
   "cell_type": "code",
   "execution_count": 14,
   "metadata": {
    "collapsed": false,
    "jupyter": {
     "outputs_hidden": false
    }
   },
   "outputs": [
    {
     "data": {
      "image/png": "[encoded data removed]",
      "text/plain": [
       "<Figure size 640x480 with 1 Axes>"
      ]
     },
     "metadata": {},
     "output_type": "display_data"
    }
   ],
   "source": [
    "fig,ax=plt.subplots(1,1)\n",
    "ax.hist(liverpool_corners, np.arange(0.01,15.5,1), color='red', edgecolor = 'white',linestyle='-',alpha=1.0, label=\"Liverpool\", density=True,align='right')\n",
    "ax.hist(everton_corners, np.arange(0.01,15.5,1), alpha=0.25, color='blue', edgecolor = 'black', label='Everton',  density=True,align='right')\n",
    "FormatFigure(ax)"
   ]
  },
  {
   "cell_type": "code",
   "execution_count": 15,
   "metadata": {
    "collapsed": false,
    "jupyter": {
     "outputs_hidden": false
    }
   },
   "outputs": [
    {
     "name": "stdout",
     "output_type": "stream",
     "text": [
      "The t-staistic is 2.86 and the P-value is 0.01.\n",
      "We reject null hypothesis - Liverpool took different number of corners per game than Everton\n"
     ]
    }
   ],
   "source": [
    "# Here we test if Liverpool had a different average corners per game than Everton. \n",
    "# We set the significance level at 0.05.\n",
    "\n",
    "\n",
    "from scipy.stats import ttest_ind\n",
    "t, pvalue  = ttest_ind(a=liverpool_corners, b=everton_corners, equal_var=True)\n",
    "\n",
    "print(\"The t-staistic is %.2f and the P-value is %.2f.\"%(t,pvalue))\n",
    "if pvalue < 0.05:\n",
    "    print(\"We reject null hypothesis - Liverpool took different number of corners per game than Everton\")\n",
    "else:\n",
    "    print(\"We cannot reject the null hypothesis that Liverpool took the same number of corners per game as Everton\")"
   ]
  },
  {
   "cell_type": "code",
   "execution_count": 16,
   "metadata": {},
   "outputs": [
    {
     "data": {
      "text/plain": [
       "112     39\n",
       "113     52\n",
       "114     65\n",
       "115     39\n",
       "116    156\n",
       "117     78\n",
       "118     65\n",
       "119     91\n",
       "120     65\n",
       "121    117\n",
       "122     39\n",
       "123    130\n",
       "124     91\n",
       "125    117\n",
       "126     26\n",
       "127    156\n",
       "128     65\n",
       "129     39\n",
       "130    104\n",
       "131     52\n",
       "132     91\n",
       "133    117\n",
       "134     65\n",
       "135    117\n",
       "136     52\n",
       "137     39\n",
       "138     13\n",
       "139    104\n",
       "140    104\n",
       "141    169\n",
       "142     78\n",
       "143     78\n",
       "144     26\n",
       "145     91\n",
       "146     52\n",
       "147    117\n",
       "148     13\n",
       "149     91\n",
       "Name: counts, dtype: int64"
      ]
     },
     "execution_count": 16,
     "metadata": {},
     "output_type": "execute_result"
    }
   ],
   "source": [
    "liverpool_corners"
   ]
  },
  {
   "cell_type": "markdown",
   "metadata": {},
   "source": [
    "The t-statistic (roughly) measures how many standard errors \n",
    "the two means are from each other. \n",
    "\n"
   ]
  }
 ],
 "metadata": {
  "kernelspec": {
   "display_name": "Python 3 (ipykernel)",
   "language": "python",
   "name": "python3"
  },
  "language_info": {
   "codemirror_mode": {
    "name": "ipython",
    "version": 3
   },
   "file_extension": ".py",
   "mimetype": "text/x-python",
   "name": "python",
   "nbconvert_exporter": "python",
   "pygments_lexer": "ipython3",
   "version": "3.11.5"
  }
 },
 "nbformat": 4,
 "nbformat_minor": 4
}
