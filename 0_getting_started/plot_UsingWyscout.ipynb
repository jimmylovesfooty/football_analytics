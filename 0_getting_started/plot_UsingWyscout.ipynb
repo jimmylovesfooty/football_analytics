{
 "cells": [
  {
   "cell_type": "code",
   "execution_count": null,
   "metadata": {
    "collapsed": false,
    "jupyter": {
     "outputs_hidden": false
    }
   },
   "outputs": [],
   "source": [
    "%matplotlib inline"
   ]
  },
  {
   "cell_type": "markdown",
   "metadata": {},
   "source": [
    "\n",
    "# Using Wyscout \n",
    "\n",
    "Getting familiar with Wyscout data\n"
   ]
  },
  {
   "cell_type": "code",
   "execution_count": 1,
   "metadata": {
    "collapsed": false,
    "jupyter": {
     "outputs_hidden": false
    }
   },
   "outputs": [],
   "source": [
    "#importing necessary libraries\n",
    "import pathlib\n",
    "import os\n",
    "import pandas as pd\n",
    "import json"
   ]
  },
  {
   "cell_type": "markdown",
   "metadata": {},
   "source": [
    "## Competition data\n",
    "In this dataframe you will find information about the id of a competition and available competitions.\n",
    "If you are trying it locally, comment  ..... active lines (put # in front lines path = ...) and comment out (delete #).\n",
    "\n"
   ]
  },
  {
   "cell_type": "code",
   "execution_count": 13,
   "metadata": {
    "collapsed": false,
    "jupyter": {
     "outputs_hidden": false
    }
   },
   "outputs": [
    {
     "name": "stdout",
     "output_type": "stream",
     "text": [
      "<class 'pandas.core.frame.DataFrame'>\n",
      "RangeIndex: 7 entries, 0 to 6\n",
      "Data columns (total 5 columns):\n",
      " #   Column  Non-Null Count  Dtype \n",
      "---  ------  --------------  ----- \n",
      " 0   name    7 non-null      object\n",
      " 1   wyId    7 non-null      int64 \n",
      " 2   format  7 non-null      object\n",
      " 3   area    7 non-null      object\n",
      " 4   type    7 non-null      object\n",
      "dtypes: int64(1), object(4)\n",
      "memory usage: 412.0+ bytes\n"
     ]
    }
   ],
   "source": [
    "#path to data\n",
    "path = os.path.join(str(pathlib.Path().resolve()), 'data', 'Wyscout', 'competitions.json') # put # in front if used locally\n",
    "#path = os.path.join(str(pathlib.Path().resolve()), 'Wyscout', 'competitions.json') # delete #\n",
    "\n",
    "#open data \n",
    "with open(path) as f:\n",
    "    data = json.load(f)\n",
    "    #save it in dataframe \n",
    "df_competitions = pd.DataFrame(data)\n",
    "#structure of data\n",
    "df_competitions.info()"
   ]
  },
  {
   "cell_type": "markdown",
   "metadata": {},
   "source": [
    "## Match data\n",
    "In this dataframe you can find information about all games that were played in Premier League 2017/18 season.\n",
    "*wyId* is the unique id in the Wyscout database. \n",
    "\n"
   ]
  },
  {
   "cell_type": "code",
   "execution_count": 14,
   "metadata": {
    "collapsed": false,
    "jupyter": {
     "outputs_hidden": false
    }
   },
   "outputs": [
    {
     "name": "stdout",
     "output_type": "stream",
     "text": [
      "<class 'pandas.core.frame.DataFrame'>\n",
      "RangeIndex: 380 entries, 0 to 379\n",
      "Data columns (total 14 columns):\n",
      " #   Column         Non-Null Count  Dtype \n",
      "---  ------         --------------  ----- \n",
      " 0   status         380 non-null    object\n",
      " 1   roundId        380 non-null    int64 \n",
      " 2   gameweek       380 non-null    int64 \n",
      " 3   teamsData      380 non-null    object\n",
      " 4   seasonId       380 non-null    int64 \n",
      " 5   dateutc        380 non-null    object\n",
      " 6   winner         380 non-null    int64 \n",
      " 7   venue          380 non-null    object\n",
      " 8   wyId           380 non-null    int64 \n",
      " 9   label          380 non-null    object\n",
      " 10  date           380 non-null    object\n",
      " 11  referees       380 non-null    object\n",
      " 12  duration       380 non-null    object\n",
      " 13  competitionId  380 non-null    int64 \n",
      "dtypes: int64(6), object(8)\n",
      "memory usage: 41.7+ KB\n"
     ]
    }
   ],
   "source": [
    "#path to data \n",
    "path = os.path.join(str(pathlib.Path().resolve()), 'data', 'Wyscout', 'matches_England.json') # put # in front if used locally\n",
    "#path = os.path.join(str(pathlib.Path().resolve()), 'data', 'Wyscout', 'matches_England.json') # delete #\n",
    "with open(path) as f:\n",
    "    data = json.load(f)\n",
    "#save it in a dataframe  \n",
    "df_matches = pd.DataFrame(data)\n",
    "#structure of data\n",
    "df_matches.info()"
   ]
  },
  {
   "cell_type": "markdown",
   "metadata": {},
   "source": [
    "## Player data\n",
    "In this dataframe you can find information about all players available for Wyscout public dataset. *wyId* is \n",
    "the player id in the Wyscout database. In the *currentTeamId* you can find the id of a team that the player plays form.\n",
    "*shortName* is an important column for vizualisations and rankings since player's name is written in a shorter way.\n",
    "\n"
   ]
  },
  {
   "cell_type": "code",
   "execution_count": 15,
   "metadata": {
    "collapsed": false,
    "jupyter": {
     "outputs_hidden": false
    }
   },
   "outputs": [
    {
     "name": "stdout",
     "output_type": "stream",
     "text": [
      "<class 'pandas.core.frame.DataFrame'>\n",
      "RangeIndex: 3603 entries, 0 to 3602\n",
      "Data columns (total 14 columns):\n",
      " #   Column                 Non-Null Count  Dtype \n",
      "---  ------                 --------------  ----- \n",
      " 0   passportArea           3603 non-null   object\n",
      " 1   weight                 3603 non-null   int64 \n",
      " 2   firstName              3603 non-null   object\n",
      " 3   middleName             3603 non-null   object\n",
      " 4   lastName               3603 non-null   object\n",
      " 5   currentTeamId          3512 non-null   object\n",
      " 6   birthDate              3603 non-null   object\n",
      " 7   height                 3603 non-null   int64 \n",
      " 8   role                   3603 non-null   object\n",
      " 9   birthArea              3603 non-null   object\n",
      " 10  wyId                   3603 non-null   int64 \n",
      " 11  foot                   3603 non-null   object\n",
      " 12  shortName              3603 non-null   object\n",
      " 13  currentNationalTeamId  3603 non-null   object\n",
      "dtypes: int64(3), object(11)\n",
      "memory usage: 394.2+ KB\n"
     ]
    }
   ],
   "source": [
    "#path to data\n",
    "path = os.path.join(str(pathlib.Path().resolve()), 'data', 'Wyscout', 'players.json') # put # in front if used locally\n",
    "#path = os.path.join(str(pathlib.Path().resolve()), 'data', 'Wyscout', 'players.json')  \n",
    "#open data\n",
    "with open(path) as f:\n",
    "    data = json.load(f)\n",
    "#save it in a dataframe  \n",
    "df_players = pd.DataFrame(data)\n",
    "#structure of data\n",
    "df_players.info()"
   ]
  },
  {
   "cell_type": "markdown",
   "metadata": {},
   "source": [
    "## Event data\n",
    "In this dataframe you can find information about all events that occured in all the games during 2017/18 Premier League\n",
    "season. *matchId* matches the wyId from *df_matches*, *playerId* matches *wyId* from *df_players*.*tags* provide information on additional characteristics of an event, for example\n",
    "if the pass was accurate. The location on the pass can be found in *positions*, but remeber, that the data are collected\n",
    "on 100x100 square with reverted y-axis. In the *eventName* you will find the basic name of an event, whereas *subEventName*\n",
    "provide more information. *eventSec* is the time of an event.\n",
    "\n",
    "If you want to learn more about Wyscout data, you can explore \n",
    "[WyScout API](https://apidocs.wyscout.com/), but remember to switch the version to 2.0 at the top of the page.\n",
    "\n",
    "This code is adjusted to the webpage with file size limit. If you want to open the data that is stored in the working\n",
    "directory, comment (put '#') before the following code and comment out the lines below them (delete '#').\n",
    "\n"
   ]
  },
  {
   "cell_type": "code",
   "execution_count": 22,
   "metadata": {
    "collapsed": false,
    "jupyter": {
     "outputs_hidden": false
    }
   },
   "outputs": [
    {
     "name": "stdout",
     "output_type": "stream",
     "text": [
      "<class 'pandas.core.frame.DataFrame'>\n",
      "RangeIndex: 643150 entries, 0 to 643149\n",
      "Data columns (total 12 columns):\n",
      " #   Column        Non-Null Count   Dtype  \n",
      "---  ------        --------------   -----  \n",
      " 0   eventId       643150 non-null  int64  \n",
      " 1   subEventName  643150 non-null  object \n",
      " 2   tags          643150 non-null  object \n",
      " 3   playerId      643150 non-null  int64  \n",
      " 4   positions     643150 non-null  object \n",
      " 5   matchId       643150 non-null  int64  \n",
      " 6   eventName     643150 non-null  object \n",
      " 7   teamId        643150 non-null  int64  \n",
      " 8   matchPeriod   643150 non-null  object \n",
      " 9   eventSec      643150 non-null  float64\n",
      " 10  subEventId    643150 non-null  object \n",
      " 11  id            643150 non-null  int64  \n",
      "dtypes: float64(1), int64(5), object(6)\n",
      "memory usage: 58.9+ MB\n"
     ]
    }
   ],
   "source": [
    "#prepare empty dataframe\n",
    "df_events = pd.DataFrame() # put # in front if used locally\n",
    "#for i in range(13): # put # in front if used locally\n",
    "#    #get file name and path to it\n",
    "#    file_name = 'events_England_' + str(i+1) + '.json' # put # in front if used locally\n",
    "#    path = os.path.join(str(pathlib.Path().resolve()), 'data', 'Wyscout', file_name) # put # in front if used locally\n",
    "    #open data\n",
    "#    with open(path) as f: # put # in front if used locally\n",
    "#        data = json.load(f) # put # in front if used locally\n",
    "    #append data to the dataframe\n",
    "#    df_events = pd.concat([df_events, pd.DataFrame(data)]) # put # in front if used locally\n",
    "\n",
    "\n",
    "path = os.path.join(str(pathlib.Path().resolve()), 'data', 'Wyscout', 'events_England.json') # delete #\n",
    "with open(path) as f: # delete #\n",
    "    data = json.load(f) # delete #\n",
    "df_events = pd.DataFrame(data) # delete #\n",
    "\n",
    "#structure of data\n",
    "df_events.info()"
   ]
  },
  {
   "cell_type": "markdown",
   "metadata": {},
   "source": [
    "## Before you start\n",
    "Run these lines in Spyder/Jupyter notebook and explore dataframes \n",
    "to get more familiar before you start working on the course.\n"
   ]
  },
  {
   "cell_type": "code",
   "execution_count": 23,
   "metadata": {},
   "outputs": [
    {
     "data": {
      "text/html": [
       "<div>\n",
       "<style scoped>\n",
       "    .dataframe tbody tr th:only-of-type {\n",
       "        vertical-align: middle;\n",
       "    }\n",
       "\n",
       "    .dataframe tbody tr th {\n",
       "        vertical-align: top;\n",
       "    }\n",
       "\n",
       "    .dataframe thead th {\n",
       "        text-align: right;\n",
       "    }\n",
       "</style>\n",
       "<table border=\"1\" class=\"dataframe\">\n",
       "  <thead>\n",
       "    <tr style=\"text-align: right;\">\n",
       "      <th></th>\n",
       "      <th>eventId</th>\n",
       "      <th>subEventName</th>\n",
       "      <th>tags</th>\n",
       "      <th>playerId</th>\n",
       "      <th>positions</th>\n",
       "      <th>matchId</th>\n",
       "      <th>eventName</th>\n",
       "      <th>teamId</th>\n",
       "      <th>matchPeriod</th>\n",
       "      <th>eventSec</th>\n",
       "      <th>subEventId</th>\n",
       "      <th>id</th>\n",
       "    </tr>\n",
       "  </thead>\n",
       "  <tbody>\n",
       "    <tr>\n",
       "      <th>0</th>\n",
       "      <td>8</td>\n",
       "      <td>Simple pass</td>\n",
       "      <td>[{'id': 1801}]</td>\n",
       "      <td>25413</td>\n",
       "      <td>[{'y': 49, 'x': 49}, {'y': 78, 'x': 31}]</td>\n",
       "      <td>2499719</td>\n",
       "      <td>Pass</td>\n",
       "      <td>1609</td>\n",
       "      <td>1H</td>\n",
       "      <td>2.758649</td>\n",
       "      <td>85</td>\n",
       "      <td>177959171</td>\n",
       "    </tr>\n",
       "    <tr>\n",
       "      <th>1</th>\n",
       "      <td>8</td>\n",
       "      <td>High pass</td>\n",
       "      <td>[{'id': 1801}]</td>\n",
       "      <td>370224</td>\n",
       "      <td>[{'y': 78, 'x': 31}, {'y': 75, 'x': 51}]</td>\n",
       "      <td>2499719</td>\n",
       "      <td>Pass</td>\n",
       "      <td>1609</td>\n",
       "      <td>1H</td>\n",
       "      <td>4.946850</td>\n",
       "      <td>83</td>\n",
       "      <td>177959172</td>\n",
       "    </tr>\n",
       "    <tr>\n",
       "      <th>2</th>\n",
       "      <td>8</td>\n",
       "      <td>Head pass</td>\n",
       "      <td>[{'id': 1801}]</td>\n",
       "      <td>3319</td>\n",
       "      <td>[{'y': 75, 'x': 51}, {'y': 71, 'x': 35}]</td>\n",
       "      <td>2499719</td>\n",
       "      <td>Pass</td>\n",
       "      <td>1609</td>\n",
       "      <td>1H</td>\n",
       "      <td>6.542188</td>\n",
       "      <td>82</td>\n",
       "      <td>177959173</td>\n",
       "    </tr>\n",
       "    <tr>\n",
       "      <th>3</th>\n",
       "      <td>8</td>\n",
       "      <td>Head pass</td>\n",
       "      <td>[{'id': 1801}]</td>\n",
       "      <td>120339</td>\n",
       "      <td>[{'y': 71, 'x': 35}, {'y': 95, 'x': 41}]</td>\n",
       "      <td>2499719</td>\n",
       "      <td>Pass</td>\n",
       "      <td>1609</td>\n",
       "      <td>1H</td>\n",
       "      <td>8.143395</td>\n",
       "      <td>82</td>\n",
       "      <td>177959174</td>\n",
       "    </tr>\n",
       "    <tr>\n",
       "      <th>4</th>\n",
       "      <td>8</td>\n",
       "      <td>Simple pass</td>\n",
       "      <td>[{'id': 1801}]</td>\n",
       "      <td>167145</td>\n",
       "      <td>[{'y': 95, 'x': 41}, {'y': 88, 'x': 72}]</td>\n",
       "      <td>2499719</td>\n",
       "      <td>Pass</td>\n",
       "      <td>1609</td>\n",
       "      <td>1H</td>\n",
       "      <td>10.302366</td>\n",
       "      <td>85</td>\n",
       "      <td>177959175</td>\n",
       "    </tr>\n",
       "    <tr>\n",
       "      <th>...</th>\n",
       "      <td>...</td>\n",
       "      <td>...</td>\n",
       "      <td>...</td>\n",
       "      <td>...</td>\n",
       "      <td>...</td>\n",
       "      <td>...</td>\n",
       "      <td>...</td>\n",
       "      <td>...</td>\n",
       "      <td>...</td>\n",
       "      <td>...</td>\n",
       "      <td>...</td>\n",
       "      <td>...</td>\n",
       "    </tr>\n",
       "    <tr>\n",
       "      <th>643145</th>\n",
       "      <td>5</td>\n",
       "      <td>Ball out of the field</td>\n",
       "      <td>[]</td>\n",
       "      <td>0</td>\n",
       "      <td>[{'y': 32, 'x': 0}, {'y': 100, 'x': 100}]</td>\n",
       "      <td>2500098</td>\n",
       "      <td>Interruption</td>\n",
       "      <td>1623</td>\n",
       "      <td>2H</td>\n",
       "      <td>2796.732525</td>\n",
       "      <td>50</td>\n",
       "      <td>251596409</td>\n",
       "    </tr>\n",
       "    <tr>\n",
       "      <th>643146</th>\n",
       "      <td>3</td>\n",
       "      <td>Corner</td>\n",
       "      <td>[{'id': 302}, {'id': 801}, {'id': 1801}]</td>\n",
       "      <td>70965</td>\n",
       "      <td>[{'y': 100, 'x': 100}, {'y': 47, 'x': 88}]</td>\n",
       "      <td>2500098</td>\n",
       "      <td>Free Kick</td>\n",
       "      <td>1633</td>\n",
       "      <td>2H</td>\n",
       "      <td>2829.821084</td>\n",
       "      <td>30</td>\n",
       "      <td>251596232</td>\n",
       "    </tr>\n",
       "    <tr>\n",
       "      <th>643147</th>\n",
       "      <td>1</td>\n",
       "      <td>Air duel</td>\n",
       "      <td>[{'id': 701}, {'id': 1802}]</td>\n",
       "      <td>7919</td>\n",
       "      <td>[{'y': 53, 'x': 12}, {'y': 50, 'x': 14}]</td>\n",
       "      <td>2500098</td>\n",
       "      <td>Duel</td>\n",
       "      <td>1623</td>\n",
       "      <td>2H</td>\n",
       "      <td>2831.211419</td>\n",
       "      <td>10</td>\n",
       "      <td>251596410</td>\n",
       "    </tr>\n",
       "    <tr>\n",
       "      <th>643148</th>\n",
       "      <td>1</td>\n",
       "      <td>Air duel</td>\n",
       "      <td>[{'id': 703}, {'id': 1801}]</td>\n",
       "      <td>8005</td>\n",
       "      <td>[{'y': 47, 'x': 88}, {'y': 50, 'x': 86}]</td>\n",
       "      <td>2500098</td>\n",
       "      <td>Duel</td>\n",
       "      <td>1633</td>\n",
       "      <td>2H</td>\n",
       "      <td>2832.434399</td>\n",
       "      <td>10</td>\n",
       "      <td>251596234</td>\n",
       "    </tr>\n",
       "    <tr>\n",
       "      <th>643149</th>\n",
       "      <td>10</td>\n",
       "      <td>Shot</td>\n",
       "      <td>[{'id': 403}, {'id': 201}, {'id': 1216}, {'id'...</td>\n",
       "      <td>8005</td>\n",
       "      <td>[{'y': 50, 'x': 86}, {'y': 0, 'x': 0}]</td>\n",
       "      <td>2500098</td>\n",
       "      <td>Shot</td>\n",
       "      <td>1633</td>\n",
       "      <td>2H</td>\n",
       "      <td>2834.127168</td>\n",
       "      <td>100</td>\n",
       "      <td>251596236</td>\n",
       "    </tr>\n",
       "  </tbody>\n",
       "</table>\n",
       "<p>643150 rows × 12 columns</p>\n",
       "</div>"
      ],
      "text/plain": [
       "        eventId           subEventName  \\\n",
       "0             8            Simple pass   \n",
       "1             8              High pass   \n",
       "2             8              Head pass   \n",
       "3             8              Head pass   \n",
       "4             8            Simple pass   \n",
       "...         ...                    ...   \n",
       "643145        5  Ball out of the field   \n",
       "643146        3                 Corner   \n",
       "643147        1               Air duel   \n",
       "643148        1               Air duel   \n",
       "643149       10                   Shot   \n",
       "\n",
       "                                                     tags  playerId  \\\n",
       "0                                          [{'id': 1801}]     25413   \n",
       "1                                          [{'id': 1801}]    370224   \n",
       "2                                          [{'id': 1801}]      3319   \n",
       "3                                          [{'id': 1801}]    120339   \n",
       "4                                          [{'id': 1801}]    167145   \n",
       "...                                                   ...       ...   \n",
       "643145                                                 []         0   \n",
       "643146           [{'id': 302}, {'id': 801}, {'id': 1801}]     70965   \n",
       "643147                        [{'id': 701}, {'id': 1802}]      7919   \n",
       "643148                        [{'id': 703}, {'id': 1801}]      8005   \n",
       "643149  [{'id': 403}, {'id': 201}, {'id': 1216}, {'id'...      8005   \n",
       "\n",
       "                                         positions  matchId     eventName  \\\n",
       "0         [{'y': 49, 'x': 49}, {'y': 78, 'x': 31}]  2499719          Pass   \n",
       "1         [{'y': 78, 'x': 31}, {'y': 75, 'x': 51}]  2499719          Pass   \n",
       "2         [{'y': 75, 'x': 51}, {'y': 71, 'x': 35}]  2499719          Pass   \n",
       "3         [{'y': 71, 'x': 35}, {'y': 95, 'x': 41}]  2499719          Pass   \n",
       "4         [{'y': 95, 'x': 41}, {'y': 88, 'x': 72}]  2499719          Pass   \n",
       "...                                            ...      ...           ...   \n",
       "643145   [{'y': 32, 'x': 0}, {'y': 100, 'x': 100}]  2500098  Interruption   \n",
       "643146  [{'y': 100, 'x': 100}, {'y': 47, 'x': 88}]  2500098     Free Kick   \n",
       "643147    [{'y': 53, 'x': 12}, {'y': 50, 'x': 14}]  2500098          Duel   \n",
       "643148    [{'y': 47, 'x': 88}, {'y': 50, 'x': 86}]  2500098          Duel   \n",
       "643149      [{'y': 50, 'x': 86}, {'y': 0, 'x': 0}]  2500098          Shot   \n",
       "\n",
       "        teamId matchPeriod     eventSec subEventId         id  \n",
       "0         1609          1H     2.758649         85  177959171  \n",
       "1         1609          1H     4.946850         83  177959172  \n",
       "2         1609          1H     6.542188         82  177959173  \n",
       "3         1609          1H     8.143395         82  177959174  \n",
       "4         1609          1H    10.302366         85  177959175  \n",
       "...        ...         ...          ...        ...        ...  \n",
       "643145    1623          2H  2796.732525         50  251596409  \n",
       "643146    1633          2H  2829.821084         30  251596232  \n",
       "643147    1623          2H  2831.211419         10  251596410  \n",
       "643148    1633          2H  2832.434399         10  251596234  \n",
       "643149    1633          2H  2834.127168        100  251596236  \n",
       "\n",
       "[643150 rows x 12 columns]"
      ]
     },
     "execution_count": 23,
     "metadata": {},
     "output_type": "execute_result"
    }
   ],
   "source": [
    "df_events"
   ]
  },
  {
   "cell_type": "code",
   "execution_count": null,
   "metadata": {},
   "outputs": [],
   "source": []
  }
 ],
 "metadata": {
  "kernelspec": {
   "display_name": "Python 3 (ipykernel)",
   "language": "python",
   "name": "python3"
  },
  "language_info": {
   "codemirror_mode": {
    "name": "ipython",
    "version": 3
   },
   "file_extension": ".py",
   "mimetype": "text/x-python",
   "name": "python",
   "nbconvert_exporter": "python",
   "pygments_lexer": "ipython3",
   "version": "3.11.5"
  }
 },
 "nbformat": 4,
 "nbformat_minor": 4
}
