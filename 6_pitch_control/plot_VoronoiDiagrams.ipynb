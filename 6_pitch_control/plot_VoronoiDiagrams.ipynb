{
  "cells": [
    {
      "cell_type": "code",
      "execution_count": null,
      "metadata": {
        "collapsed": false
      },
      "outputs": [],
      "source": [
        "%matplotlib inline"
      ]
    },
    {
      "cell_type": "markdown",
      "metadata": {},
      "source": [
        "\n# Making Voronoi Diagrams\nMaking Voronoi Diagrams with Statsbomb 360 data\n"
      ]
    },
    {
      "cell_type": "code",
      "execution_count": null,
      "metadata": {
        "collapsed": false
      },
      "outputs": [],
      "source": [
        "from mplsoccer import Sbopen, VerticalPitch\nimport numpy as np\nimport matplotlib.pyplot as plt\n# The first thing we have to do is open the data. We use a parser SBopen available in mplsoccer."
      ]
    },
    {
      "cell_type": "markdown",
      "metadata": {},
      "source": [
        "## Opening data\nFor this task we will use Statsbomb 360 data form Sweden against Switzerland \ngame at the Women's UEFA Euro 2022. We want to make the plot for Bennison's\ngoal from that game. We also take the *id* of this event. As the next step we open\nthe 360 data. In *df_frame* player location is stored and in *df_visible* area\ntracked by Statsbomb during this event. From the latter we take visible area only for this \nspecific event and store it as a numpy array with apeces coordinates stored in separate rows.\n\n"
      ]
    },
    {
      "cell_type": "code",
      "execution_count": null,
      "metadata": {
        "collapsed": false
      },
      "outputs": [],
      "source": [
        "#declare mplsoccer parser\nparser = Sbopen()\n\n#open event dataset\ndf_event = parser.event(3835331)[0]\n#find Bennison goal\nevent = df_event.loc[df_event[\"outcome_name\"] == 'Goal'].loc[df_event[\"player_name\"] == 'Hanna Ulrika Bennison']\n#save it's id\nevent_id = event[\"id\"].iloc[0]\n\n#open 360\ndf_frame, df_visible = parser.frame(3835331)\n#get visible area\nvisible_area = np.array(df_visible.loc[df_visible[\"id\"] == event_id]['visible_area'].iloc[0]).reshape(-1, 2)"
      ]
    },
    {
      "cell_type": "markdown",
      "metadata": {},
      "source": [
        "## Plotting visible area \nTo investigate the area that Statsbomb managed to catch, we plot it using *polygon* method of mplsoccer. \n\n"
      ]
    },
    {
      "cell_type": "code",
      "execution_count": null,
      "metadata": {
        "collapsed": false
      },
      "outputs": [],
      "source": [
        "pitch  = VerticalPitch(line_color='grey', line_zorder = 1, half = True, pad_bottom=-30, linewidth=5)\nfig, ax = pitch.grid(grid_height=0.9, title_height=0.06, axis=False,\n                     endnote_height=0.04, title_space=0, endnote_space=0)\n#add visible area\npitch.polygon([visible_area], color=(0, 0, 1, 0.3), ax=ax[\"pitch\"], zorder = 2)\nfig.suptitle(\"Area catched by Statsbomb 360 data - Hanna Bennison's goal\", fontsize = 45)\nplt.show()"
      ]
    },
    {
      "cell_type": "markdown",
      "metadata": {},
      "source": [
        "## Plotting player position\nNow, to get a better understanding of Statsbomb 360 data, we can plot player position during the shot\nas well as shot trajectory.\n\n"
      ]
    },
    {
      "cell_type": "code",
      "execution_count": null,
      "metadata": {
        "collapsed": false
      },
      "outputs": [],
      "source": [
        "#get player position for this event\nplayer_position = df_frame.loc[df_frame[\"id\"] == event_id]\n#get swedish player position\nsweden = player_position.loc[player_position[\"teammate\"] == True]\n#get swiss player positions\nswiss = player_position.loc[player_position[\"teammate\"] == False]\n\nfig, ax = pitch.grid(grid_height=0.9, title_height=0.06, axis=False,\n                     endnote_height=0.04, title_space=0, endnote_space=0)\n#plot visible area\npitch.polygon([visible_area], color=(0, 0, 1, 0.3), ax=ax[\"pitch\"], zorder = 2)\n#plot sweden players - yellow\npitch.scatter(sweden.x, sweden.y, color = 'yellow', edgecolors = 'black', s = 400, ax=ax['pitch'], zorder = 3)\n#plot swiss players - red\npitch.scatter(swiss.x, swiss.y, color = 'red', edgecolors = 'black', s = 400, ax=ax['pitch'], zorder = 3)\n#add shot\npitch.lines(event.x, event.y,\n                   event.end_x, event.end_y, comet = True, color='green', ax=ax['pitch'], zorder = 1, linestyle = ':', lw = 2)\nfig.suptitle(\"Player position during Benninson's goal\", fontsize = 45)\nplt.show()"
      ]
    },
    {
      "cell_type": "markdown",
      "metadata": {},
      "source": [
        "## Plotting Voronoi diagrams for 1 team.\nNow, we can make Voronoi diagrams for Swedish teams. We do it using *voronoi* method. Then, we clip the diagram to restricted\narea only.\n\n"
      ]
    },
    {
      "cell_type": "code",
      "execution_count": null,
      "metadata": {
        "collapsed": false
      },
      "outputs": [],
      "source": [
        "#Voronoi for Sweden\nteam1, team2 = pitch.voronoi(sweden.x, sweden.y,\n                         sweden.teammate)\nfig, ax = pitch.grid(grid_height=0.9, title_height=0.06, axis=False,\n                     endnote_height=0.04, title_space=0, endnote_space=0)\n#plot voronoi diagrams as polygons\nt1 = pitch.polygon(team1, ax = ax[\"pitch\"], color = 'yellow', ec = 'black', lw=3, alpha=0.4, zorder = 2)\n#mark visible area\nvisible = pitch.polygon([visible_area], color = 'None', linestyle = \"--\", ec = \"black\", ax=ax[\"pitch\"], zorder = 2)\n#plot swedish players\npitch.scatter(sweden.x, sweden.y, color = 'yellow', edgecolors = 'black', s = 600, ax=ax['pitch'], zorder = 4)\n#plot swiss players\npitch.scatter(swiss.x, swiss.y, color = 'red', edgecolors = 'black', s = 600, ax=ax['pitch'], zorder = 3)\n#plot shot\npitch.lines(event.x, event.y,\n                   event.end_x, event.end_y, comet = True, color='green', ax=ax['pitch'], zorder = 1, linestyle = ':', lw = 5)\n#limit voronoi diagram to polygon\nfor p1 in t1:\n    p1.set_clip_path(visible[0])\nfig.suptitle(\"Voronoi diagram for Sweden (in the visible area) - Hanna Bennison's goal\", fontsize = 30)\nplt.show()"
      ]
    },
    {
      "cell_type": "markdown",
      "metadata": {},
      "source": [
        "## Plotting Voronoi diagrams for 2 teams.\nWe can also differentiate between areas and mark areas that each player was the closest to. To do that \ninstead of using a dataframe with only one team players' position, we use both teams. \n\n"
      ]
    },
    {
      "cell_type": "code",
      "execution_count": null,
      "metadata": {
        "collapsed": false
      },
      "outputs": [],
      "source": [
        "#voronoi for both teams\nteam1, team2 = pitch.voronoi(player_position.x, player_position.y,\n                         player_position.teammate)\nfig, ax = pitch.grid(grid_height=0.9, title_height=0.06, axis=False,\n                     endnote_height=0.04, title_space=0, endnote_space=0)\n#add sweden\nt1 = pitch.polygon(team1, ax = ax[\"pitch\"], color = 'yellow', ec = 'black', lw=3, alpha=0.4, zorder = 2)\n#add switzerland\nt2 = pitch.polygon(team2, ax = ax[\"pitch\"], color = 'red', ec = 'black', lw=3, alpha=0.4, zorder = 2)\n#mark visible area\nvisible = pitch.polygon([visible_area], color = 'None', linestyle = \"--\", ec = \"black\", ax=ax[\"pitch\"], zorder = 2)\n#plot swedish players\npitch.scatter(sweden.x, sweden.y, color = 'yellow', edgecolors = 'black', s = 600, ax=ax['pitch'], zorder = 4)\n#plot swiss players\npitch.scatter(swiss.x, swiss.y, color = 'red', edgecolors = 'black', s = 600, ax=ax['pitch'], zorder = 3)\n#plot shot\npitch.lines(event.x, event.y,\n                   event.end_x, event.end_y, comet = True, color='green', ax=ax['pitch'], zorder = 1, linestyle = ':', lw = 5)\n#clip sweden\nfor p1 in t1:\n    p1.set_clip_path(visible[0])\n#clip sswitzerland\nfor p2 in t2:\n    p2.set_clip_path(visible[0])\nfig.suptitle(\"Voronoi diagram for both teams (in the visible area) - Hanna Bennison's goal\", fontsize = 30)\nplt.show()"
      ]
    }
  ],
  "metadata": {
    "kernelspec": {
      "display_name": "Python 3",
      "language": "python",
      "name": "python3"
    },
    "language_info": {
      "codemirror_mode": {
        "name": "ipython",
        "version": 3
      },
      "file_extension": ".py",
      "mimetype": "text/x-python",
      "name": "python",
      "nbconvert_exporter": "python",
      "pygments_lexer": "ipython3",
      "version": "3.10.8"
    }
  },
  "nbformat": 4,
  "nbformat_minor": 0
}